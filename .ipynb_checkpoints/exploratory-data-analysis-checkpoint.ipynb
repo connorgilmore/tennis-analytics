{
 "cells": [
  {
   "cell_type": "code",
   "execution_count": 3,
   "metadata": {
    "collapsed": true
   },
   "outputs": [],
   "source": [
    "import pandas as pd"
   ]
  },
  {
   "cell_type": "code",
   "execution_count": 4,
   "metadata": {
    "collapsed": true
   },
   "outputs": [],
   "source": [
    "match_scores1 = pd.read_csv('C:/Users/Connor/Documents/Analytics Project/tennis/tennis-analytics/data/match_scores_1877-1967_unindexed.csv')\n",
    "match_scores2 = pd.read_csv('C:/Users/Connor/Documents/Analytics Project/tennis/tennis-analytics/data/match_scores_1968-1990_unindexed.csv')\n",
    "match_scores3 = pd.read_csv('C:/Users/Connor/Documents/Analytics Project/tennis/tennis-analytics/data/match_scores_1991-2016_unindexed.csv')\n",
    "match_scores4 = pd.read_csv('C:/Users/Connor/Documents/Analytics Project/tennis/tennis-analytics/data/match_scores_2017_unindexed.csv')\n",
    "tournaments = pd.read_csv('C:/Users/Connor/Documents/Analytics Project/tennis/tennis-analytics/data/tournaments_1877-2017_unindexed.csv')\n",
    "\n",
    "match_scores1_df = pd.DataFrame(match_scores1)\n",
    "match_scores2_df = pd.DataFrame(match_scores2)\n",
    "match_scores3_df = pd.DataFrame(match_scores2)\n",
    "match_scores4_df = pd.DataFrame(match_scores4)\n",
    "all_matches_df = pd.concat([match_scores1_df, match_scores2_df, match_scores3_df,\n",
    "                           match_scores4_df])\n",
    "tournaments_df = pd.DataFrame(tournaments)"
   ]
  },
  {
   "cell_type": "code",
   "execution_count": 5,
   "metadata": {},
   "outputs": [
    {
     "data": {
      "text/html": [
       "<div>\n",
       "<style>\n",
       "    .dataframe thead tr:only-child th {\n",
       "        text-align: right;\n",
       "    }\n",
       "\n",
       "    .dataframe thead th {\n",
       "        text-align: left;\n",
       "    }\n",
       "\n",
       "    .dataframe tbody tr th {\n",
       "        vertical-align: top;\n",
       "    }\n",
       "</style>\n",
       "<table border=\"1\" class=\"dataframe\">\n",
       "  <thead>\n",
       "    <tr style=\"text-align: right;\">\n",
       "      <th></th>\n",
       "      <th>tourney_year_id</th>\n",
       "      <th>tourney_order</th>\n",
       "      <th>tourney_slug</th>\n",
       "      <th>tourney_url_suffix</th>\n",
       "      <th>tourney_round_name</th>\n",
       "      <th>round_order</th>\n",
       "      <th>match_order</th>\n",
       "      <th>winner_name</th>\n",
       "      <th>winner_player_id</th>\n",
       "      <th>winner_slug</th>\n",
       "      <th>...</th>\n",
       "      <th>loser_seed</th>\n",
       "      <th>match_score_tiebreaks</th>\n",
       "      <th>winner_sets_won</th>\n",
       "      <th>loser_sets_won</th>\n",
       "      <th>winner_games_won</th>\n",
       "      <th>loser_games_won</th>\n",
       "      <th>winner_tiebreaks_won</th>\n",
       "      <th>loser_tiebreaks_won</th>\n",
       "      <th>match_id</th>\n",
       "      <th>match_stats_url_suffix</th>\n",
       "    </tr>\n",
       "  </thead>\n",
       "  <tbody>\n",
       "    <tr>\n",
       "      <th>0</th>\n",
       "      <td>1877-540</td>\n",
       "      <td>1</td>\n",
       "      <td>wimbledon</td>\n",
       "      <td>/en/scores/archive/wimbledon/540/1877/results</td>\n",
       "      <td>Finals</td>\n",
       "      <td>1</td>\n",
       "      <td>1</td>\n",
       "      <td>Spencer Gore</td>\n",
       "      <td>gi91</td>\n",
       "      <td>spencer-gore</td>\n",
       "      <td>...</td>\n",
       "      <td>NaN</td>\n",
       "      <td>61 62 64</td>\n",
       "      <td>3</td>\n",
       "      <td>0</td>\n",
       "      <td>18</td>\n",
       "      <td>7</td>\n",
       "      <td>0</td>\n",
       "      <td>0</td>\n",
       "      <td>1877-540-gi91-mu62</td>\n",
       "      <td>NaN</td>\n",
       "    </tr>\n",
       "    <tr>\n",
       "      <th>1</th>\n",
       "      <td>1877-540</td>\n",
       "      <td>1</td>\n",
       "      <td>wimbledon</td>\n",
       "      <td>/en/scores/archive/wimbledon/540/1877/results</td>\n",
       "      <td>Semi-Finals</td>\n",
       "      <td>2</td>\n",
       "      <td>1</td>\n",
       "      <td>Spencer Gore</td>\n",
       "      <td>gi91</td>\n",
       "      <td>spencer-gore</td>\n",
       "      <td>...</td>\n",
       "      <td>NaN</td>\n",
       "      <td>62 65 62</td>\n",
       "      <td>3</td>\n",
       "      <td>0</td>\n",
       "      <td>18</td>\n",
       "      <td>9</td>\n",
       "      <td>0</td>\n",
       "      <td>0</td>\n",
       "      <td>1877-540-gi91-hg42</td>\n",
       "      <td>NaN</td>\n",
       "    </tr>\n",
       "    <tr>\n",
       "      <th>2</th>\n",
       "      <td>1877-540</td>\n",
       "      <td>1</td>\n",
       "      <td>wimbledon</td>\n",
       "      <td>/en/scores/archive/wimbledon/540/1877/results</td>\n",
       "      <td>Quarter-Finals</td>\n",
       "      <td>3</td>\n",
       "      <td>1</td>\n",
       "      <td>Spencer Gore</td>\n",
       "      <td>gi91</td>\n",
       "      <td>spencer-gore</td>\n",
       "      <td>...</td>\n",
       "      <td>NaN</td>\n",
       "      <td>63 62 56 61</td>\n",
       "      <td>3</td>\n",
       "      <td>1</td>\n",
       "      <td>23</td>\n",
       "      <td>12</td>\n",
       "      <td>0</td>\n",
       "      <td>0</td>\n",
       "      <td>1877-540-gi91-lh23</td>\n",
       "      <td>NaN</td>\n",
       "    </tr>\n",
       "    <tr>\n",
       "      <th>3</th>\n",
       "      <td>1877-540</td>\n",
       "      <td>1</td>\n",
       "      <td>wimbledon</td>\n",
       "      <td>/en/scores/archive/wimbledon/540/1877/results</td>\n",
       "      <td>Quarter-Finals</td>\n",
       "      <td>3</td>\n",
       "      <td>2</td>\n",
       "      <td>C. Heathcote</td>\n",
       "      <td>hg42</td>\n",
       "      <td>c-heathcote</td>\n",
       "      <td>...</td>\n",
       "      <td>NaN</td>\n",
       "      <td>63 63 65</td>\n",
       "      <td>3</td>\n",
       "      <td>0</td>\n",
       "      <td>18</td>\n",
       "      <td>11</td>\n",
       "      <td>0</td>\n",
       "      <td>0</td>\n",
       "      <td>1877-540-hg42-mu66</td>\n",
       "      <td>NaN</td>\n",
       "    </tr>\n",
       "    <tr>\n",
       "      <th>4</th>\n",
       "      <td>1877-540</td>\n",
       "      <td>1</td>\n",
       "      <td>wimbledon</td>\n",
       "      <td>/en/scores/archive/wimbledon/540/1877/results</td>\n",
       "      <td>Quarter-Finals</td>\n",
       "      <td>3</td>\n",
       "      <td>3</td>\n",
       "      <td>William Marshall</td>\n",
       "      <td>mu62</td>\n",
       "      <td>william-marshall</td>\n",
       "      <td>...</td>\n",
       "      <td>NaN</td>\n",
       "      <td>65 56 64 61</td>\n",
       "      <td>3</td>\n",
       "      <td>1</td>\n",
       "      <td>23</td>\n",
       "      <td>16</td>\n",
       "      <td>0</td>\n",
       "      <td>0</td>\n",
       "      <td>1877-540-mu62-e994</td>\n",
       "      <td>NaN</td>\n",
       "    </tr>\n",
       "  </tbody>\n",
       "</table>\n",
       "<p>5 rows × 24 columns</p>\n",
       "</div>"
      ],
      "text/plain": [
       "  tourney_year_id  tourney_order tourney_slug  \\\n",
       "0        1877-540              1    wimbledon   \n",
       "1        1877-540              1    wimbledon   \n",
       "2        1877-540              1    wimbledon   \n",
       "3        1877-540              1    wimbledon   \n",
       "4        1877-540              1    wimbledon   \n",
       "\n",
       "                              tourney_url_suffix tourney_round_name  \\\n",
       "0  /en/scores/archive/wimbledon/540/1877/results             Finals   \n",
       "1  /en/scores/archive/wimbledon/540/1877/results        Semi-Finals   \n",
       "2  /en/scores/archive/wimbledon/540/1877/results     Quarter-Finals   \n",
       "3  /en/scores/archive/wimbledon/540/1877/results     Quarter-Finals   \n",
       "4  /en/scores/archive/wimbledon/540/1877/results     Quarter-Finals   \n",
       "\n",
       "   round_order  match_order       winner_name winner_player_id  \\\n",
       "0            1            1      Spencer Gore             gi91   \n",
       "1            2            1      Spencer Gore             gi91   \n",
       "2            3            1      Spencer Gore             gi91   \n",
       "3            3            2      C. Heathcote             hg42   \n",
       "4            3            3  William Marshall             mu62   \n",
       "\n",
       "        winner_slug           ...           loser_seed match_score_tiebreaks  \\\n",
       "0      spencer-gore           ...                  NaN              61 62 64   \n",
       "1      spencer-gore           ...                  NaN              62 65 62   \n",
       "2      spencer-gore           ...                  NaN           63 62 56 61   \n",
       "3       c-heathcote           ...                  NaN              63 63 65   \n",
       "4  william-marshall           ...                  NaN           65 56 64 61   \n",
       "\n",
       "  winner_sets_won loser_sets_won winner_games_won loser_games_won  \\\n",
       "0               3              0               18               7   \n",
       "1               3              0               18               9   \n",
       "2               3              1               23              12   \n",
       "3               3              0               18              11   \n",
       "4               3              1               23              16   \n",
       "\n",
       "   winner_tiebreaks_won  loser_tiebreaks_won            match_id  \\\n",
       "0                     0                    0  1877-540-gi91-mu62   \n",
       "1                     0                    0  1877-540-gi91-hg42   \n",
       "2                     0                    0  1877-540-gi91-lh23   \n",
       "3                     0                    0  1877-540-hg42-mu66   \n",
       "4                     0                    0  1877-540-mu62-e994   \n",
       "\n",
       "   match_stats_url_suffix  \n",
       "0                     NaN  \n",
       "1                     NaN  \n",
       "2                     NaN  \n",
       "3                     NaN  \n",
       "4                     NaN  \n",
       "\n",
       "[5 rows x 24 columns]"
      ]
     },
     "execution_count": 5,
     "metadata": {},
     "output_type": "execute_result"
    }
   ],
   "source": [
    "all_matches_df.head()"
   ]
  },
  {
   "cell_type": "code",
   "execution_count": 6,
   "metadata": {},
   "outputs": [
    {
     "data": {
      "text/plain": [
       "169865"
      ]
     },
     "execution_count": 6,
     "metadata": {},
     "output_type": "execute_result"
    }
   ],
   "source": [
    "len(all_matches_df.index)"
   ]
  },
  {
   "cell_type": "code",
   "execution_count": 7,
   "metadata": {},
   "outputs": [
    {
     "data": {
      "text/html": [
       "<div>\n",
       "<style>\n",
       "    .dataframe thead tr:only-child th {\n",
       "        text-align: right;\n",
       "    }\n",
       "\n",
       "    .dataframe thead th {\n",
       "        text-align: left;\n",
       "    }\n",
       "\n",
       "    .dataframe tbody tr th {\n",
       "        vertical-align: top;\n",
       "    }\n",
       "</style>\n",
       "<table border=\"1\" class=\"dataframe\">\n",
       "  <thead>\n",
       "    <tr style=\"text-align: right;\">\n",
       "      <th></th>\n",
       "      <th>tourney_year</th>\n",
       "      <th>tourney_order</th>\n",
       "      <th>tourney_name</th>\n",
       "      <th>tourney_id</th>\n",
       "      <th>tourney_slug</th>\n",
       "      <th>tourney_location</th>\n",
       "      <th>tourney_dates</th>\n",
       "      <th>tourney_month</th>\n",
       "      <th>tourney_day</th>\n",
       "      <th>tourney_singles_draw</th>\n",
       "      <th>...</th>\n",
       "      <th>singles_winner_player_id</th>\n",
       "      <th>doubles_winner_1_name</th>\n",
       "      <th>doubles_winner_1_url</th>\n",
       "      <th>doubles_winner_1_player_slug</th>\n",
       "      <th>doubles_winner_1_player_id</th>\n",
       "      <th>doubles_winner_2_name</th>\n",
       "      <th>doubles_winner_2_url</th>\n",
       "      <th>doubles_winner_2_player_slug</th>\n",
       "      <th>doubles_winner_2_player_id</th>\n",
       "      <th>tourney_year_id</th>\n",
       "    </tr>\n",
       "  </thead>\n",
       "  <tbody>\n",
       "    <tr>\n",
       "      <th>0</th>\n",
       "      <td>1877</td>\n",
       "      <td>1</td>\n",
       "      <td>Wimbledon</td>\n",
       "      <td>540.0</td>\n",
       "      <td>wimbledon</td>\n",
       "      <td>London, Great Britain</td>\n",
       "      <td>1877.07.09</td>\n",
       "      <td>7.0</td>\n",
       "      <td>9.0</td>\n",
       "      <td>32</td>\n",
       "      <td>...</td>\n",
       "      <td>gi91</td>\n",
       "      <td>NaN</td>\n",
       "      <td>NaN</td>\n",
       "      <td>NaN</td>\n",
       "      <td>NaN</td>\n",
       "      <td>NaN</td>\n",
       "      <td>NaN</td>\n",
       "      <td>NaN</td>\n",
       "      <td>NaN</td>\n",
       "      <td>1877-540</td>\n",
       "    </tr>\n",
       "    <tr>\n",
       "      <th>1</th>\n",
       "      <td>1878</td>\n",
       "      <td>1</td>\n",
       "      <td>Wimbledon</td>\n",
       "      <td>540.0</td>\n",
       "      <td>wimbledon</td>\n",
       "      <td>London, Great Britain</td>\n",
       "      <td>1878.07.08</td>\n",
       "      <td>7.0</td>\n",
       "      <td>8.0</td>\n",
       "      <td>64</td>\n",
       "      <td>...</td>\n",
       "      <td>hg50</td>\n",
       "      <td>NaN</td>\n",
       "      <td>NaN</td>\n",
       "      <td>NaN</td>\n",
       "      <td>NaN</td>\n",
       "      <td>NaN</td>\n",
       "      <td>NaN</td>\n",
       "      <td>NaN</td>\n",
       "      <td>NaN</td>\n",
       "      <td>1878-540</td>\n",
       "    </tr>\n",
       "    <tr>\n",
       "      <th>2</th>\n",
       "      <td>1879</td>\n",
       "      <td>1</td>\n",
       "      <td>Wimbledon</td>\n",
       "      <td>540.0</td>\n",
       "      <td>wimbledon</td>\n",
       "      <td>London, Great Britain</td>\n",
       "      <td>1879.07.07</td>\n",
       "      <td>7.0</td>\n",
       "      <td>7.0</td>\n",
       "      <td>64</td>\n",
       "      <td>...</td>\n",
       "      <td>hg35</td>\n",
       "      <td>NaN</td>\n",
       "      <td>NaN</td>\n",
       "      <td>NaN</td>\n",
       "      <td>NaN</td>\n",
       "      <td>NaN</td>\n",
       "      <td>NaN</td>\n",
       "      <td>NaN</td>\n",
       "      <td>NaN</td>\n",
       "      <td>1879-540</td>\n",
       "    </tr>\n",
       "    <tr>\n",
       "      <th>3</th>\n",
       "      <td>1880</td>\n",
       "      <td>1</td>\n",
       "      <td>Wimbledon</td>\n",
       "      <td>540.0</td>\n",
       "      <td>wimbledon</td>\n",
       "      <td>London, Great Britain</td>\n",
       "      <td>1880.07.05</td>\n",
       "      <td>7.0</td>\n",
       "      <td>5.0</td>\n",
       "      <td>64</td>\n",
       "      <td>...</td>\n",
       "      <td>hg35</td>\n",
       "      <td>NaN</td>\n",
       "      <td>NaN</td>\n",
       "      <td>NaN</td>\n",
       "      <td>NaN</td>\n",
       "      <td>NaN</td>\n",
       "      <td>NaN</td>\n",
       "      <td>NaN</td>\n",
       "      <td>NaN</td>\n",
       "      <td>1880-540</td>\n",
       "    </tr>\n",
       "    <tr>\n",
       "      <th>4</th>\n",
       "      <td>1881</td>\n",
       "      <td>1</td>\n",
       "      <td>Wimbledon</td>\n",
       "      <td>540.0</td>\n",
       "      <td>wimbledon</td>\n",
       "      <td>London, Great Britain</td>\n",
       "      <td>1881.07.02</td>\n",
       "      <td>7.0</td>\n",
       "      <td>2.0</td>\n",
       "      <td>64</td>\n",
       "      <td>...</td>\n",
       "      <td>rg71</td>\n",
       "      <td>NaN</td>\n",
       "      <td>NaN</td>\n",
       "      <td>NaN</td>\n",
       "      <td>NaN</td>\n",
       "      <td>NaN</td>\n",
       "      <td>NaN</td>\n",
       "      <td>NaN</td>\n",
       "      <td>NaN</td>\n",
       "      <td>1881-540</td>\n",
       "    </tr>\n",
       "  </tbody>\n",
       "</table>\n",
       "<p>5 rows × 28 columns</p>\n",
       "</div>"
      ],
      "text/plain": [
       "   tourney_year  tourney_order tourney_name  tourney_id tourney_slug  \\\n",
       "0          1877              1    Wimbledon       540.0    wimbledon   \n",
       "1          1878              1    Wimbledon       540.0    wimbledon   \n",
       "2          1879              1    Wimbledon       540.0    wimbledon   \n",
       "3          1880              1    Wimbledon       540.0    wimbledon   \n",
       "4          1881              1    Wimbledon       540.0    wimbledon   \n",
       "\n",
       "        tourney_location tourney_dates  tourney_month  tourney_day  \\\n",
       "0  London, Great Britain    1877.07.09            7.0          9.0   \n",
       "1  London, Great Britain    1878.07.08            7.0          8.0   \n",
       "2  London, Great Britain    1879.07.07            7.0          7.0   \n",
       "3  London, Great Britain    1880.07.05            7.0          5.0   \n",
       "4  London, Great Britain    1881.07.02            7.0          2.0   \n",
       "\n",
       "   tourney_singles_draw       ...        singles_winner_player_id  \\\n",
       "0                    32       ...                            gi91   \n",
       "1                    64       ...                            hg50   \n",
       "2                    64       ...                            hg35   \n",
       "3                    64       ...                            hg35   \n",
       "4                    64       ...                            rg71   \n",
       "\n",
       "  doubles_winner_1_name doubles_winner_1_url doubles_winner_1_player_slug  \\\n",
       "0                   NaN                  NaN                          NaN   \n",
       "1                   NaN                  NaN                          NaN   \n",
       "2                   NaN                  NaN                          NaN   \n",
       "3                   NaN                  NaN                          NaN   \n",
       "4                   NaN                  NaN                          NaN   \n",
       "\n",
       "  doubles_winner_1_player_id doubles_winner_2_name doubles_winner_2_url  \\\n",
       "0                        NaN                   NaN                  NaN   \n",
       "1                        NaN                   NaN                  NaN   \n",
       "2                        NaN                   NaN                  NaN   \n",
       "3                        NaN                   NaN                  NaN   \n",
       "4                        NaN                   NaN                  NaN   \n",
       "\n",
       "  doubles_winner_2_player_slug doubles_winner_2_player_id tourney_year_id  \n",
       "0                          NaN                        NaN        1877-540  \n",
       "1                          NaN                        NaN        1878-540  \n",
       "2                          NaN                        NaN        1879-540  \n",
       "3                          NaN                        NaN        1880-540  \n",
       "4                          NaN                        NaN        1881-540  \n",
       "\n",
       "[5 rows x 28 columns]"
      ]
     },
     "execution_count": 7,
     "metadata": {},
     "output_type": "execute_result"
    }
   ],
   "source": [
    "tournaments_df.head()"
   ]
  },
  {
   "cell_type": "code",
   "execution_count": 8,
   "metadata": {},
   "outputs": [
    {
     "data": {
      "text/plain": [
       "4114"
      ]
     },
     "execution_count": 8,
     "metadata": {},
     "output_type": "execute_result"
    }
   ],
   "source": [
    "len(tournaments_df.index)"
   ]
  },
  {
   "cell_type": "markdown",
   "metadata": {},
   "source": [
    "tourney_year_id is the FK between the two DataFrames"
   ]
  },
  {
   "cell_type": "code",
   "execution_count": 10,
   "metadata": {},
   "outputs": [
    {
     "name": "stdout",
     "output_type": "stream",
     "text": [
      "tourney_year_id\n",
      "tourney_order\n",
      "tourney_slug\n",
      "tourney_url_suffix\n",
      "tourney_round_name\n",
      "round_order\n",
      "match_order\n",
      "winner_name\n",
      "winner_player_id\n",
      "winner_slug\n",
      "loser_name\n",
      "loser_player_id\n",
      "loser_slug\n",
      "winner_seed\n",
      "loser_seed\n",
      "match_score_tiebreaks\n",
      "winner_sets_won\n",
      "loser_sets_won\n",
      "winner_games_won\n",
      "loser_games_won\n",
      "winner_tiebreaks_won\n",
      "loser_tiebreaks_won\n",
      "match_id\n",
      "match_stats_url_suffix\n"
     ]
    }
   ],
   "source": [
    "for col in all_matches_df.columns:\n",
    "    print(col)"
   ]
  },
  {
   "cell_type": "code",
   "execution_count": 25,
   "metadata": {
    "collapsed": true
   },
   "outputs": [],
   "source": [
    "import matplotlib.pyplot as plt\n",
    "import seaborn as sns\n",
    "% matplotlib inline"
   ]
  },
  {
   "cell_type": "code",
   "execution_count": 18,
   "metadata": {},
   "outputs": [
    {
     "data": {
      "text/plain": [
       "0    wimbledon\n",
       "1    wimbledon\n",
       "2    wimbledon\n",
       "3    wimbledon\n",
       "4    wimbledon\n",
       "Name: tourney_slug, dtype: object"
      ]
     },
     "execution_count": 18,
     "metadata": {},
     "output_type": "execute_result"
    }
   ],
   "source": [
    "all_matches_df['tourney_slug'].head()"
   ]
  },
  {
   "cell_type": "code",
   "execution_count": 26,
   "metadata": {},
   "outputs": [
    {
     "data": {
      "text/plain": [
       "<matplotlib.axes._subplots.AxesSubplot at 0x14ec79d0780>"
      ]
     },
     "execution_count": 26,
     "metadata": {},
     "output_type": "execute_result"
    },
    {
     "data": {
      "image/png": "[encoded data removed]",
      "text/plain": [
       "<matplotlib.figure.Figure at 0x14ec79c5710>"
      ]
     },
     "metadata": {},
     "output_type": "display_data"
    }
   ],
   "source": [
    "plt.hist(all_matches_df['loser_games_won'], color = 'blue', edgecolor = 'black',\n",
    "         bins = int(180/5))\n",
    "\n",
    "sns.distplot(all_matches_df['loser_games_won'], hist=True, kde=False, \n",
    "             bins=int(180/5), color = 'blue',\n",
    "             hist_kws={'edgecolor':'black'})"
   ]
  },
  {
   "cell_type": "code",
   "execution_count": 27,
   "metadata": {},
   "outputs": [
    {
     "data": {
      "text/plain": [
       "<matplotlib.axes._subplots.AxesSubplot at 0x14ec5adada0>"
      ]
     },
     "execution_count": 27,
     "metadata": {},
     "output_type": "execute_result"
    },
    {
     "data": {
      "image/png": "[encoded data removed]",
      "text/plain": [
       "<matplotlib.figure.Figure at 0x14ec79c5e48>"
      ]
     },
     "metadata": {},
     "output_type": "display_data"
    }
   ],
   "source": [
    "all_matches_df['tourney_slug'].value_counts().plot(kind='bar')"
   ]
  },
  {
   "cell_type": "code",
   "execution_count": null,
   "metadata": {
    "collapsed": true
   },
   "outputs": [],
   "source": []
  }
 ],
 "metadata": {
  "kernelspec": {
   "display_name": "Python 3",
   "language": "python",
   "name": "python3"
  },
  "language_info": {
   "codemirror_mode": {
    "name": "ipython",
    "version": 3
   },
   "file_extension": ".py",
   "mimetype": "text/x-python",
   "name": "python",
   "nbconvert_exporter": "python",
   "pygments_lexer": "ipython3",
   "version": "3.6.2"
  }
 },
 "nbformat": 4,
 "nbformat_minor": 2
}
